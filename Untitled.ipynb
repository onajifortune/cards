{
 "cells": [
  {
   "cell_type": "code",
   "execution_count": null,
   "id": "2877d5c4-4e0e-4506-b90f-c7bee7e3b299",
   "metadata": {},
   "outputs": [],
   "source": [
    "from deck import DeckOfCards"
   ]
  },
  {
   "cell_type": "code",
   "execution_count": 2,
   "id": "d9db7b70-1120-48e3-bce7-9d928c4e9788",
   "metadata": {},
   "outputs": [],
   "source": [
    " deck_of_cards = DeckOfCards()"
   ]
  },
  {
   "cell_type": "code",
   "execution_count": 7,
   "id": "67d0bf62-63cc-4ae9-9ebb-71d397989837",
   "metadata": {},
   "outputs": [],
   "source": [
    "%matplotlib qt"
   ]
  },
  {
   "cell_type": "code",
   "execution_count": 9,
   "id": "59beec39-399c-47b9-8064-920037e86d12",
   "metadata": {},
   "outputs": [],
   "source": [
    "from pathlib import Path"
   ]
  },
  {
   "cell_type": "code",
   "execution_count": 11,
   "id": "c227c67b-687c-478f-ad0d-3de8649f4177",
   "metadata": {},
   "outputs": [],
   "source": [
    "path = Path('.').joinpath('card_images')"
   ]
  },
  {
   "cell_type": "code",
   "execution_count": 13,
   "id": "745dc107-d531-44c0-a785-2c3b5ffb8635",
   "metadata": {},
   "outputs": [],
   "source": [
    "import matplotlib.pyplot   as plt"
   ]
  },
  {
   "cell_type": "code",
   "execution_count": 15,
   "id": "83e8b6fd-c0ea-4d4e-b32e-270033c048d1",
   "metadata": {},
   "outputs": [],
   "source": [
    "import matplotlib.image as mpimg"
   ]
  },
  {
   "cell_type": "code",
   "execution_count": 17,
   "id": "eac2d99b-a646-43bc-9835-8ce739f0f4ef",
   "metadata": {},
   "outputs": [],
   "source": [
    "figure, axes_list = plt.subplots(nrows=4, ncols=13)"
   ]
  },
  {
   "cell_type": "code",
   "execution_count": 19,
   "id": "2a97a3bd-4fae-483c-9761-8cb315dbf2fc",
   "metadata": {},
   "outputs": [],
   "source": [
    "for axes in axes_list.ravel():\n",
    "    axes.get_xaxis().set_visible(False)\n",
    "    axes.get_yaxis().set_visible(False)\n",
    "    image_name =   deck_of_cards.deal_card().image_name\n",
    "    img =   mpimg.imread(str(path.joinpath(image_name).resolve()))\n",
    "    axes.imshow(img)"
   ]
  },
  {
   "cell_type": "code",
   "execution_count": 21,
   "id": "f37903b0-7d0d-46a4-a483-beadbcc23934",
   "metadata": {},
   "outputs": [],
   "source": [
    " figure.tight_layout()"
   ]
  },
  {
   "cell_type": "code",
   "execution_count": null,
   "id": "415de12e-ff3d-4d38-9399-b9bca6469f3a",
   "metadata": {},
   "outputs": [],
   "source": []
  }
 ],
 "metadata": {
  "kernelspec": {
   "display_name": "Python 3 (ipykernel)",
   "language": "python",
   "name": "python3"
  },
  "language_info": {
   "codemirror_mode": {
    "name": "ipython",
    "version": 3
   },
   "file_extension": ".py",
   "mimetype": "text/x-python",
   "name": "python",
   "nbconvert_exporter": "python",
   "pygments_lexer": "ipython3",
   "version": "3.12.3"
  }
 },
 "nbformat": 4,
 "nbformat_minor": 5
}
